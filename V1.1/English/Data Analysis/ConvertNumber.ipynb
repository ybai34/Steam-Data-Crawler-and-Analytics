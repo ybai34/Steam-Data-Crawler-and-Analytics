{
 "cells": [
  {
   "cell_type": "code",
   "execution_count": 3,
   "id": "d7b4e7b8",
   "metadata": {},
   "outputs": [
    {
     "data": {
      "text/plain": [
       "'DataSample_converted.xlsx'"
      ]
     },
     "execution_count": 3,
     "metadata": {},
     "output_type": "execute_result"
    }
   ],
   "source": [
    "import pandas as pd\n",
    "\n",
    "# Load data\n",
    "file_path = 'DataSample.xlsx'\n",
    "data = pd.read_excel(file_path)\n",
    "\n",
    "cleaned_data = data.dropna()\n",
    "\n",
    "cleaned_data.to_excel('cleaned_data.xlsx', index=False)\n",
    "\n",
    "file_path = 'cleaned_data.xlsx'\n",
    "data = pd.read_excel(file_path)\n",
    "\n",
    "# Convert non-numeric data\n",
    "def convert_to_number(value):\n",
    "    if isinstance(value, str):\n",
    "        if 'k' in value:\n",
    "            return float(value.replace('k', '')) * 1000\n",
    "        elif 'M' in value:\n",
    "            return float(value.replace('M', '')) * 1000000\n",
    "    return value\n",
    "\n",
    "columns_to_convert = ['Owner PlayTracker', 'Owner Gamalytic', 'Owner VG Insights', 'Owner Steamspy']\n",
    "\n",
    "for column in columns_to_convert:\n",
    "    data[column] = data[column].apply(convert_to_number)\n",
    "\n",
    "\n",
    "\n",
    "\n",
    "# Process Peruvian Sol first, otherwise there will be a bug that will cause the entire data column to be deleted\n",
    "data['Peruvian Sol'] = data['Peruvian Sol'].str.replace('S/.', '').astype(float)\n",
    "\n",
    "\n",
    "price_columns = data.columns[10:]  \n",
    "\n",
    "for column in price_columns:\n",
    "    if column != 'Peruvian Sol':\n",
    "        data[column] = data[column].str.replace(r'[^\\d.]', '', regex=True).astype(float)\n",
    "\n",
    "\n",
    "\n",
    "# Save file\n",
    "converted_file_path = 'DataSample_converted.xlsx'\n",
    "data.to_excel(converted_file_path, index=False)\n",
    "\n",
    "converted_file_path\n",
    "\n"
   ]
  },
  {
   "cell_type": "code",
   "execution_count": null,
   "id": "20dc3f43",
   "metadata": {},
   "outputs": [],
   "source": []
  }
 ],
 "metadata": {
  "kernelspec": {
   "display_name": "Python 3 (ipykernel)",
   "language": "python",
   "name": "python3"
  },
  "language_info": {
   "codemirror_mode": {
    "name": "ipython",
    "version": 3
   },
   "file_extension": ".py",
   "mimetype": "text/x-python",
   "name": "python",
   "nbconvert_exporter": "python",
   "pygments_lexer": "ipython3",
   "version": "3.11.5"
  }
 },
 "nbformat": 4,
 "nbformat_minor": 5
}
