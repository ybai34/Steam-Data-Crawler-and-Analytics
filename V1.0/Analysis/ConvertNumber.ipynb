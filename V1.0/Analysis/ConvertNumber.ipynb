{
 "cells": [
  {
   "cell_type": "code",
   "execution_count": 6,
   "id": "d7b4e7b8",
   "metadata": {},
   "outputs": [
    {
     "data": {
      "text/plain": [
       "'DataSample_converted.xlsx'"
      ]
     },
     "execution_count": 6,
     "metadata": {},
     "output_type": "execute_result"
    }
   ],
   "source": [
    "import pandas as pd\n",
    "\n",
    "# 载入数据\n",
    "file_path = 'DataSample.xlsx'\n",
    "data = pd.read_excel(file_path)\n",
    "\n",
    "# 转换非数字k、M数据\n",
    "def convert_to_number(value):\n",
    "    if isinstance(value, str):\n",
    "        if 'k' in value:\n",
    "            return float(value.replace('k', '')) * 1000\n",
    "        elif 'M' in value:\n",
    "            return float(value.replace('M', '')) * 1000000\n",
    "    return value\n",
    "\n",
    "columns_to_convert = ['Owner PlayTracker', 'Owner Gamalytic', 'Owner VG Insights', 'Owner Steamspy']\n",
    "\n",
    "for column in columns_to_convert:\n",
    "    data[column] = data[column].apply(convert_to_number)\n",
    "\n",
    "# 保存文件\n",
    "converted_file_path = 'DataSample_converted.xlsx'\n",
    "data.to_excel(converted_file_path, index=False)\n",
    "\n",
    "converted_file_path\n",
    "\n"
   ]
  },
  {
   "cell_type": "code",
   "execution_count": null,
   "id": "20dc3f43",
   "metadata": {},
   "outputs": [],
   "source": []
  }
 ],
 "metadata": {
  "kernelspec": {
   "display_name": "Python 3 (ipykernel)",
   "language": "python",
   "name": "python3"
  },
  "language_info": {
   "codemirror_mode": {
    "name": "ipython",
    "version": 3
   },
   "file_extension": ".py",
   "mimetype": "text/x-python",
   "name": "python",
   "nbconvert_exporter": "python",
   "pygments_lexer": "ipython3",
   "version": "3.11.5"
  }
 },
 "nbformat": 4,
 "nbformat_minor": 5
}
